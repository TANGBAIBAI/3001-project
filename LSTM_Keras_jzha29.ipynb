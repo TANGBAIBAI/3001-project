{
 "cells": [
  {
   "cell_type": "code",
   "execution_count": 1,
   "metadata": {},
   "outputs": [
    {
     "name": "stderr",
     "output_type": "stream",
     "text": [
      "Using TensorFlow backend.\n"
     ]
    }
   ],
   "source": [
    "import numpy as np\n",
    "import matplotlib.pyplot as plt\n",
    "import pandas as pd\n",
    "import math\n",
    "import glob\n",
    "from keras.models import Sequential\n",
    "from keras.layers import Dense\n",
    "from keras.layers import LSTM\n",
    "from sklearn.preprocessing import MinMaxScaler\n",
    "from sklearn.metrics import mean_squared_error\n",
    "from sklearn.metrics import r2_score\n",
    "# fix random seed for reproducibility\n",
    "np.random.seed(7)"
   ]
  },
  {
   "cell_type": "code",
   "execution_count": 2,
   "metadata": {},
   "outputs": [],
   "source": [
    "files=glob.glob('../stock-data-dow-jones/*.csv')\n",
    "#files=glob.glob('stock-data-dow-jones/*.txt')\n",
    "df = pd.read_csv(files[28],index_col = 0)"
   ]
  },
  {
   "cell_type": "code",
   "execution_count": 3,
   "metadata": {},
   "outputs": [
    {
     "name": "stderr",
     "output_type": "stream",
     "text": [
      "C:\\Users\\maxle\\Anaconda3\\lib\\site-packages\\ipykernel_launcher.py:3: SettingWithCopyWarning: \n",
      "A value is trying to be set on a copy of a slice from a DataFrame\n",
      "\n",
      "See the caveats in the documentation: http://pandas.pydata.org/pandas-docs/stable/user_guide/indexing.html#returning-a-view-versus-a-copy\n",
      "  This is separate from the ipykernel package so we can avoid doing imports until\n"
     ]
    }
   ],
   "source": [
    "df['log_return'] = [0.0]*df.shape[0]\n",
    "for i in range(1,df.shape[0]):\n",
    "    df['log_return'][i]=np.log(df['close'][i]/df['close'][i-1])*100"
   ]
  },
  {
   "cell_type": "code",
   "execution_count": 4,
   "metadata": {},
   "outputs": [
    {
     "data": {
      "text/html": [
       "<div>\n",
       "<style scoped>\n",
       "    .dataframe tbody tr th:only-of-type {\n",
       "        vertical-align: middle;\n",
       "    }\n",
       "\n",
       "    .dataframe tbody tr th {\n",
       "        vertical-align: top;\n",
       "    }\n",
       "\n",
       "    .dataframe thead th {\n",
       "        text-align: right;\n",
       "    }\n",
       "</style>\n",
       "<table border=\"1\" class=\"dataframe\">\n",
       "  <thead>\n",
       "    <tr style=\"text-align: right;\">\n",
       "      <th></th>\n",
       "      <th>open</th>\n",
       "      <th>high</th>\n",
       "      <th>low</th>\n",
       "      <th>close</th>\n",
       "      <th>volume</th>\n",
       "      <th>unadjustedVolume</th>\n",
       "      <th>change</th>\n",
       "      <th>changePercent</th>\n",
       "      <th>vwap</th>\n",
       "      <th>label</th>\n",
       "      <th>changeOverTime</th>\n",
       "      <th>log_return</th>\n",
       "    </tr>\n",
       "    <tr>\n",
       "      <th>date</th>\n",
       "      <th></th>\n",
       "      <th></th>\n",
       "      <th></th>\n",
       "      <th></th>\n",
       "      <th></th>\n",
       "      <th></th>\n",
       "      <th></th>\n",
       "      <th></th>\n",
       "      <th></th>\n",
       "      <th></th>\n",
       "      <th></th>\n",
       "      <th></th>\n",
       "    </tr>\n",
       "  </thead>\n",
       "  <tbody>\n",
       "    <tr>\n",
       "      <td>2014-06-12</td>\n",
       "      <td>66.5714</td>\n",
       "      <td>66.6939</td>\n",
       "      <td>66.1600</td>\n",
       "      <td>66.2913</td>\n",
       "      <td>5336596</td>\n",
       "      <td>5336596</td>\n",
       "      <td>-0.376406</td>\n",
       "      <td>-0.565</td>\n",
       "      <td>66.3323</td>\n",
       "      <td>Jun 12, 14</td>\n",
       "      <td>0.000000</td>\n",
       "      <td>0.000000</td>\n",
       "    </tr>\n",
       "    <tr>\n",
       "      <td>2014-06-13</td>\n",
       "      <td>66.2387</td>\n",
       "      <td>66.3175</td>\n",
       "      <td>65.7573</td>\n",
       "      <td>65.8973</td>\n",
       "      <td>4981452</td>\n",
       "      <td>4981452</td>\n",
       "      <td>-0.393914</td>\n",
       "      <td>-0.594</td>\n",
       "      <td>65.9063</td>\n",
       "      <td>Jun 13, 14</td>\n",
       "      <td>-0.005943</td>\n",
       "      <td>-0.596120</td>\n",
       "    </tr>\n",
       "    <tr>\n",
       "      <td>2014-06-16</td>\n",
       "      <td>65.7485</td>\n",
       "      <td>66.0724</td>\n",
       "      <td>65.6698</td>\n",
       "      <td>65.9499</td>\n",
       "      <td>3846878</td>\n",
       "      <td>3846878</td>\n",
       "      <td>0.052521</td>\n",
       "      <td>0.080</td>\n",
       "      <td>65.9065</td>\n",
       "      <td>Jun 16, 14</td>\n",
       "      <td>-0.005150</td>\n",
       "      <td>0.079789</td>\n",
       "    </tr>\n",
       "    <tr>\n",
       "      <td>2014-06-17</td>\n",
       "      <td>65.9061</td>\n",
       "      <td>66.0199</td>\n",
       "      <td>65.5778</td>\n",
       "      <td>65.6435</td>\n",
       "      <td>6544215</td>\n",
       "      <td>6544215</td>\n",
       "      <td>-0.306376</td>\n",
       "      <td>-0.465</td>\n",
       "      <td>65.8109</td>\n",
       "      <td>Jun 17, 14</td>\n",
       "      <td>-0.009772</td>\n",
       "      <td>-0.465678</td>\n",
       "    </tr>\n",
       "    <tr>\n",
       "      <td>2014-06-18</td>\n",
       "      <td>65.6873</td>\n",
       "      <td>66.4926</td>\n",
       "      <td>65.5822</td>\n",
       "      <td>66.2650</td>\n",
       "      <td>6740696</td>\n",
       "      <td>6740696</td>\n",
       "      <td>0.621509</td>\n",
       "      <td>0.947</td>\n",
       "      <td>66.1875</td>\n",
       "      <td>Jun 18, 14</td>\n",
       "      <td>-0.000397</td>\n",
       "      <td>0.942327</td>\n",
       "    </tr>\n",
       "  </tbody>\n",
       "</table>\n",
       "</div>"
      ],
      "text/plain": [
       "               open     high      low    close   volume  unadjustedVolume  \\\n",
       "date                                                                        \n",
       "2014-06-12  66.5714  66.6939  66.1600  66.2913  5336596           5336596   \n",
       "2014-06-13  66.2387  66.3175  65.7573  65.8973  4981452           4981452   \n",
       "2014-06-16  65.7485  66.0724  65.6698  65.9499  3846878           3846878   \n",
       "2014-06-17  65.9061  66.0199  65.5778  65.6435  6544215           6544215   \n",
       "2014-06-18  65.6873  66.4926  65.5822  66.2650  6740696           6740696   \n",
       "\n",
       "              change  changePercent     vwap       label  changeOverTime  \\\n",
       "date                                                                       \n",
       "2014-06-12 -0.376406         -0.565  66.3323  Jun 12, 14        0.000000   \n",
       "2014-06-13 -0.393914         -0.594  65.9063  Jun 13, 14       -0.005943   \n",
       "2014-06-16  0.052521          0.080  65.9065  Jun 16, 14       -0.005150   \n",
       "2014-06-17 -0.306376         -0.465  65.8109  Jun 17, 14       -0.009772   \n",
       "2014-06-18  0.621509          0.947  66.1875  Jun 18, 14       -0.000397   \n",
       "\n",
       "            log_return  \n",
       "date                    \n",
       "2014-06-12    0.000000  \n",
       "2014-06-13   -0.596120  \n",
       "2014-06-16    0.079789  \n",
       "2014-06-17   -0.465678  \n",
       "2014-06-18    0.942327  "
      ]
     },
     "execution_count": 4,
     "metadata": {},
     "output_type": "execute_result"
    }
   ],
   "source": [
    "df.head()"
   ]
  },
  {
   "cell_type": "code",
   "execution_count": 5,
   "metadata": {},
   "outputs": [],
   "source": [
    "df['volatility']=np.log(np.sqrt(pow((df['log_return']-df['log_return'].mean()),2)))"
   ]
  },
  {
   "cell_type": "code",
   "execution_count": 35,
   "metadata": {},
   "outputs": [],
   "source": [
    "#df['volatility']=pow(df['log_return'],2)"
   ]
  },
  {
   "cell_type": "code",
   "execution_count": 6,
   "metadata": {},
   "outputs": [
    {
     "data": {
      "image/png": "[encoded data removed]",
      "text/plain": [
       "<Figure size 720x360 with 1 Axes>"
      ]
     },
     "metadata": {
      "needs_background": "light"
     },
     "output_type": "display_data"
    }
   ],
   "source": [
    "plt.figure(figsize = (10,5))\n",
    "fg = df.volatility.plot()"
   ]
  },
  {
   "cell_type": "code",
   "execution_count": 223,
   "metadata": {},
   "outputs": [],
   "source": [
    "'''\n",
    "df_train = df['volatility'][df.index < \"2017-03-01\"]\n",
    "\n",
    "df_val = df['volatility'][(df.index >= \"2017-03-01\") & (df.index < \"2018-05-01\")]\n",
    "\n",
    "df_test = df['volatility'][df.index >= \"2018-05-01\"]\n",
    "\n",
    "df_train = np.array(df_train).reshape(-1,1)\n",
    "df_val = np.array(df_val).reshape(-1,1)\n",
    "df_test = np.array(df_test).reshape(-1,1)\n",
    "'''"
   ]
  },
  {
   "cell_type": "code",
   "execution_count": 7,
   "metadata": {},
   "outputs": [],
   "source": [
    "# normalize the dataset\n",
    "scaler1 = MinMaxScaler(feature_range=(0, 1))\n",
    "df_x = np.array(df.volatility).reshape(-1,1)\n",
    "df_x = scaler1.fit_transform(df_x)\n",
    "\n",
    "scaler2 = MinMaxScaler(feature_range=(0, 1))\n",
    "df_y = np.array(df.volatility).reshape(-1,1)\n",
    "df_y = scaler2.fit_transform(df_y)"
   ]
  },
  {
   "cell_type": "code",
   "execution_count": 8,
   "metadata": {},
   "outputs": [],
   "source": [
    "def create_dataset(df_x, df_y, look_back=1):\n",
    "    dataX, dataY = [], []\n",
    "    for i in range(len(df)-look_back):\n",
    "        a = df_x[i:(i+look_back)]\n",
    "        dataX.append(a)\n",
    "        dataY.append(df_y[i+look_back])\n",
    "    return np.array(dataX), np.array(dataY)\n",
    "look_back = 10\n",
    "data_X, data_Y = create_dataset(df_x, df_y, look_back)"
   ]
  },
  {
   "cell_type": "code",
   "execution_count": 9,
   "metadata": {},
   "outputs": [
    {
     "data": {
      "text/plain": [
       "(1248, 10, 1)"
      ]
     },
     "execution_count": 9,
     "metadata": {},
     "output_type": "execute_result"
    }
   ],
   "source": [
    "data_X.shape"
   ]
  },
  {
   "cell_type": "code",
   "execution_count": 10,
   "metadata": {},
   "outputs": [
    {
     "data": {
      "text/plain": [
       "(1000, 10, 1)"
      ]
     },
     "execution_count": 10,
     "metadata": {},
     "output_type": "execute_result"
    }
   ],
   "source": [
    "# split into train and test sets\n",
    "train_size = (int(len(df_y ) * 0.8) // 100) * 100\n",
    "test_size = ((len(df_y) - train_size) // 100) * 100\n",
    "df_x = df_x[:train_size+test_size]\n",
    "df_y = df_y[:train_size+test_size]\n",
    "data_X = data_X[:train_size+test_size]\n",
    "data_Y = data_Y[:train_size+test_size]\n",
    "trainX, testX = data_X[0:train_size], data_X[train_size:train_size + test_size]\n",
    "trainY, testY = data_Y[0:train_size], data_Y[train_size:train_size + test_size]\n",
    "trainX.shape"
   ]
  },
  {
   "cell_type": "code",
   "execution_count": 11,
   "metadata": {},
   "outputs": [],
   "source": [
    "# reshape input to be [samples, time steps, features]\n",
    "trainX = trainX.reshape((-1, look_back, 1))\n",
    "testX = testX.reshape( (-1, look_back, 1))\n",
    "trainY = trainY.reshape((-1, 1))\n",
    "testY = testY.reshape( (-1, 1))\n"
   ]
  },
  {
   "cell_type": "code",
   "execution_count": 12,
   "metadata": {},
   "outputs": [
    {
     "data": {
      "text/plain": [
       "(200, 10, 1)"
      ]
     },
     "execution_count": 12,
     "metadata": {},
     "output_type": "execute_result"
    }
   ],
   "source": [
    "testX.shape"
   ]
  },
  {
   "cell_type": "code",
   "execution_count": 13,
   "metadata": {},
   "outputs": [
    {
     "name": "stdout",
     "output_type": "stream",
     "text": [
      "Epoch 1/30\n",
      "1000/1000 [==============================] - 2s 2ms/step - loss: 0.1724\n",
      "Epoch 2/30\n",
      "1000/1000 [==============================] - 1s 688us/step - loss: 0.0110\n",
      "Epoch 3/30\n",
      "1000/1000 [==============================] - 1s 707us/step - loss: 0.0089\n",
      "Epoch 4/30\n",
      "1000/1000 [==============================] - 1s 719us/step - loss: 0.0089\n",
      "Epoch 5/30\n",
      "1000/1000 [==============================] - 1s 818us/step - loss: 0.0089\n",
      "Epoch 6/30\n",
      "1000/1000 [==============================] - 1s 735us/step - loss: 0.0090\n",
      "Epoch 7/30\n",
      "1000/1000 [==============================] - 1s 714us/step - loss: 0.0090\n",
      "Epoch 8/30\n",
      "1000/1000 [==============================] - 1s 755us/step - loss: 0.0092\n",
      "Epoch 9/30\n",
      "1000/1000 [==============================] - 1s 745us/step - loss: 0.0098\n",
      "Epoch 10/30\n",
      "1000/1000 [==============================] - 1s 745us/step - loss: 0.0089 0s - loss: 0.00\n",
      "Epoch 11/30\n",
      "1000/1000 [==============================] - 1s 755us/step - loss: 0.0091\n",
      "Epoch 12/30\n",
      "1000/1000 [==============================] - 1s 726us/step - loss: 0.0089\n",
      "Epoch 13/30\n",
      "1000/1000 [==============================] - 1s 750us/step - loss: 0.0088\n",
      "Epoch 14/30\n",
      "1000/1000 [==============================] - 1s 703us/step - loss: 0.0087\n",
      "Epoch 15/30\n",
      "1000/1000 [==============================] - 1s 702us/step - loss: 0.0089\n",
      "Epoch 16/30\n",
      "1000/1000 [==============================] - 1s 726us/step - loss: 0.0089\n",
      "Epoch 17/30\n",
      "1000/1000 [==============================] - 1s 782us/step - loss: 0.0089\n",
      "Epoch 18/30\n",
      "1000/1000 [==============================] - 1s 793us/step - loss: 0.0088\n",
      "Epoch 19/30\n",
      "1000/1000 [==============================] - 1s 749us/step - loss: 0.0088\n",
      "Epoch 20/30\n",
      "1000/1000 [==============================] - 1s 740us/step - loss: 0.0093\n",
      "Epoch 21/30\n",
      "1000/1000 [==============================] - 1s 728us/step - loss: 0.0092\n",
      "Epoch 22/30\n",
      "1000/1000 [==============================] - 1s 717us/step - loss: 0.0089 0s - los\n",
      "Epoch 23/30\n",
      "1000/1000 [==============================] - 1s 707us/step - loss: 0.0087\n",
      "Epoch 24/30\n",
      "1000/1000 [==============================] - 1s 710us/step - loss: 0.0087\n",
      "Epoch 25/30\n",
      "1000/1000 [==============================] - 1s 722us/step - loss: 0.0087\n",
      "Epoch 26/30\n",
      "1000/1000 [==============================] - 1s 711us/step - loss: 0.0087\n",
      "Epoch 27/30\n",
      "1000/1000 [==============================] - 1s 720us/step - loss: 0.0088\n",
      "Epoch 28/30\n",
      "1000/1000 [==============================] - 1s 733us/step - loss: 0.0087\n",
      "Epoch 29/30\n",
      "1000/1000 [==============================] - 1s 707us/step - loss: 0.0089\n",
      "Epoch 30/30\n",
      "1000/1000 [==============================] - 1s 712us/step - loss: 0.0086\n"
     ]
    },
    {
     "data": {
      "text/plain": [
       "<keras.callbacks.callbacks.History at 0x26d718126a0>"
      ]
     },
     "execution_count": 13,
     "metadata": {},
     "output_type": "execute_result"
    }
   ],
   "source": [
    "# create and fit the LSTM network\n",
    "model = Sequential()\n",
    "model.add(LSTM(100, activation='tanh', input_shape=(look_back, 1), return_sequences=True))\n",
    "model.add(LSTM(50, activation='relu', input_shape=(look_back, 1), return_sequences=True))\n",
    "model.add(LSTM(25, activation='relu', input_shape=(look_back, 1), return_sequences=False))\n",
    "#model.add(LSTM(20, activation='relu'))\n",
    "model.add(Dense(1))\n",
    "model.compile(loss='mse', optimizer='adam')\n",
    "model.fit(trainX, trainY, epochs=30, verbose=1)"
   ]
  },
  {
   "cell_type": "code",
   "execution_count": 14,
   "metadata": {},
   "outputs": [
    {
     "name": "stdout",
     "output_type": "stream",
     "text": [
      "Train Score: 1.28 RMSE\n",
      "Test Score: 1.15 RMSE\n",
      "R^2 train: -0.017\n",
      "R^2 test: -0.017\n"
     ]
    }
   ],
   "source": [
    "# make predictions\n",
    "trainPredict = model.predict(trainX)\n",
    "testPredict = model.predict(testX)\n",
    "# invert predictions\n",
    "trainPredict = scaler2.inverse_transform(trainPredict)\n",
    "\n",
    "trainY = scaler2.inverse_transform(trainY)\n",
    "testPredict = scaler2.inverse_transform(testPredict)\n",
    "testY = scaler2.inverse_transform(testY)\n",
    "# calculate root mean squared error\n",
    "trainScore = math.sqrt(mean_squared_error(trainY, trainPredict[:,0]))\n",
    "print('Train Score: %.2f RMSE' % (trainScore))\n",
    "testScore = math.sqrt(mean_squared_error(testY, testPredict[:,0]))\n",
    "print('Test Score: %.2f RMSE' % (testScore))\n",
    "print('R^2 train: %.3f' % (r2_score(trainY, trainPredict[:,0])))\n",
    "print('R^2 test: %.3f' % (r2_score(trainY, trainPredict[:,0])))"
   ]
  },
  {
   "cell_type": "code",
   "execution_count": 15,
   "metadata": {},
   "outputs": [
    {
     "data": {
      "image/png": "[encoded data removed]",
      "text/plain": [
       "<Figure size 432x288 with 1 Axes>"
      ]
     },
     "metadata": {
      "needs_background": "light"
     },
     "output_type": "display_data"
    }
   ],
   "source": [
    "# shift train predictions for plotting\n",
    "trainPredictPlot = np.empty_like(df_x)\n",
    "trainPredictPlot[:, :] = np.nan\n",
    "trainPredictPlot[0:len(trainPredict), :] = trainPredict\n",
    "# shift test predictions for plotting\n",
    "testPredictPlot = np.empty_like(df_x)\n",
    "testPredictPlot[:, :] = np.nan\n",
    "testPredictPlot[len(trainPredict):len(df_x), :] = testPredict\n",
    "# plot baseline and predictions\n",
    "#plt.figure(figsize=(100,5))\n",
    "plt.plot(scaler2.inverse_transform(df_y))\n",
    "plt.plot(trainPredictPlot)\n",
    "plt.plot(testPredictPlot)\n",
    "#plt.plot(df.log_return)\n",
    "plt.show()"
   ]
  },
  {
   "cell_type": "code",
   "execution_count": null,
   "metadata": {},
   "outputs": [],
   "source": []
  },
  {
   "cell_type": "code",
   "execution_count": null,
   "metadata": {},
   "outputs": [],
   "source": []
  }
 ],
 "metadata": {
  "kernelspec": {
   "display_name": "Python 3",
   "language": "python",
   "name": "python3"
  },
  "language_info": {
   "codemirror_mode": {
    "name": "ipython",
    "version": 3
   },
   "file_extension": ".py",
   "mimetype": "text/x-python",
   "name": "python",
   "nbconvert_exporter": "python",
   "pygments_lexer": "ipython3",
   "version": "3.7.3"
  }
 },
 "nbformat": 4,
 "nbformat_minor": 2
}
