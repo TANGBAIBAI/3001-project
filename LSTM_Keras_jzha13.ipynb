{
 "cells": [
  {
   "cell_type": "code",
   "execution_count": 1,
   "metadata": {},
   "outputs": [
    {
     "name": "stderr",
     "output_type": "stream",
     "text": [
      "Using TensorFlow backend.\n"
     ]
    }
   ],
   "source": [
    "import numpy as np\n",
    "import matplotlib.pyplot as plt\n",
    "import pandas as pd\n",
    "import math\n",
    "import glob\n",
    "from keras.models import Sequential\n",
    "from keras.layers import Dense\n",
    "from keras.layers import LSTM\n",
    "from sklearn.preprocessing import MinMaxScaler\n",
    "from sklearn.metrics import mean_squared_error\n",
    "from sklearn.metrics import r2_score\n",
    "# fix random seed for reproducibility\n",
    "np.random.seed(7)"
   ]
  },
  {
   "cell_type": "code",
   "execution_count": 3,
   "metadata": {},
   "outputs": [],
   "source": [
    "files=glob.glob('../stock-data-dow-jones/*.csv')\n",
    "#files=glob.glob('stock-data-dow-jones/*.txt')\n",
    "df = pd.read_csv(files[12],index_col = 0)"
   ]
  },
  {
   "cell_type": "code",
   "execution_count": 4,
   "metadata": {},
   "outputs": [
    {
     "name": "stderr",
     "output_type": "stream",
     "text": [
      "C:\\Users\\maxle\\Anaconda3\\lib\\site-packages\\ipykernel_launcher.py:3: SettingWithCopyWarning: \n",
      "A value is trying to be set on a copy of a slice from a DataFrame\n",
      "\n",
      "See the caveats in the documentation: http://pandas.pydata.org/pandas-docs/stable/user_guide/indexing.html#returning-a-view-versus-a-copy\n",
      "  This is separate from the ipykernel package so we can avoid doing imports until\n"
     ]
    }
   ],
   "source": [
    "df['log_return'] = [0.0]*df.shape[0]\n",
    "for i in range(1,df.shape[0]):\n",
    "    df['log_return'][i]=np.log(df['close'][i]/df['close'][i-1])*100"
   ]
  },
  {
   "cell_type": "code",
   "execution_count": 5,
   "metadata": {},
   "outputs": [
    {
     "data": {
      "text/html": [
       "<div>\n",
       "<style scoped>\n",
       "    .dataframe tbody tr th:only-of-type {\n",
       "        vertical-align: middle;\n",
       "    }\n",
       "\n",
       "    .dataframe tbody tr th {\n",
       "        vertical-align: top;\n",
       "    }\n",
       "\n",
       "    .dataframe thead th {\n",
       "        text-align: right;\n",
       "    }\n",
       "</style>\n",
       "<table border=\"1\" class=\"dataframe\">\n",
       "  <thead>\n",
       "    <tr style=\"text-align: right;\">\n",
       "      <th></th>\n",
       "      <th>open</th>\n",
       "      <th>high</th>\n",
       "      <th>low</th>\n",
       "      <th>close</th>\n",
       "      <th>volume</th>\n",
       "      <th>unadjustedVolume</th>\n",
       "      <th>change</th>\n",
       "      <th>changePercent</th>\n",
       "      <th>vwap</th>\n",
       "      <th>label</th>\n",
       "      <th>changeOverTime</th>\n",
       "      <th>log_return</th>\n",
       "    </tr>\n",
       "    <tr>\n",
       "      <th>date</th>\n",
       "      <th></th>\n",
       "      <th></th>\n",
       "      <th></th>\n",
       "      <th></th>\n",
       "      <th></th>\n",
       "      <th></th>\n",
       "      <th></th>\n",
       "      <th></th>\n",
       "      <th></th>\n",
       "      <th></th>\n",
       "      <th></th>\n",
       "      <th></th>\n",
       "    </tr>\n",
       "  </thead>\n",
       "  <tbody>\n",
       "    <tr>\n",
       "      <td>2014-06-12</td>\n",
       "      <td>90.0459</td>\n",
       "      <td>90.0721</td>\n",
       "      <td>89.4612</td>\n",
       "      <td>89.4787</td>\n",
       "      <td>5935011</td>\n",
       "      <td>5935011</td>\n",
       "      <td>-0.689437</td>\n",
       "      <td>-0.765</td>\n",
       "      <td>89.5721</td>\n",
       "      <td>Jun 12, 14</td>\n",
       "      <td>0.000000</td>\n",
       "      <td>0.000000</td>\n",
       "    </tr>\n",
       "    <tr>\n",
       "      <td>2014-06-13</td>\n",
       "      <td>89.4612</td>\n",
       "      <td>89.5834</td>\n",
       "      <td>89.1645</td>\n",
       "      <td>89.4787</td>\n",
       "      <td>4302188</td>\n",
       "      <td>4302188</td>\n",
       "      <td>0.000000</td>\n",
       "      <td>0.000</td>\n",
       "      <td>89.4077</td>\n",
       "      <td>Jun 13, 14</td>\n",
       "      <td>0.000000</td>\n",
       "      <td>0.000000</td>\n",
       "    </tr>\n",
       "    <tr>\n",
       "      <td>2014-06-16</td>\n",
       "      <td>89.4700</td>\n",
       "      <td>89.7929</td>\n",
       "      <td>88.8765</td>\n",
       "      <td>89.4089</td>\n",
       "      <td>5645516</td>\n",
       "      <td>5645516</td>\n",
       "      <td>-0.069817</td>\n",
       "      <td>-0.078</td>\n",
       "      <td>89.4067</td>\n",
       "      <td>Jun 16, 14</td>\n",
       "      <td>-0.000780</td>\n",
       "      <td>-0.078038</td>\n",
       "    </tr>\n",
       "    <tr>\n",
       "      <td>2014-06-17</td>\n",
       "      <td>89.1296</td>\n",
       "      <td>89.1907</td>\n",
       "      <td>88.4751</td>\n",
       "      <td>88.9551</td>\n",
       "      <td>4835591</td>\n",
       "      <td>4835591</td>\n",
       "      <td>-0.453809</td>\n",
       "      <td>-0.508</td>\n",
       "      <td>88.8206</td>\n",
       "      <td>Jun 17, 14</td>\n",
       "      <td>-0.005852</td>\n",
       "      <td>-0.508848</td>\n",
       "    </tr>\n",
       "    <tr>\n",
       "      <td>2014-06-18</td>\n",
       "      <td>88.9376</td>\n",
       "      <td>89.7405</td>\n",
       "      <td>88.8942</td>\n",
       "      <td>89.7230</td>\n",
       "      <td>5449119</td>\n",
       "      <td>5449119</td>\n",
       "      <td>0.767983</td>\n",
       "      <td>0.863</td>\n",
       "      <td>89.3121</td>\n",
       "      <td>Jun 18, 14</td>\n",
       "      <td>0.002730</td>\n",
       "      <td>0.859540</td>\n",
       "    </tr>\n",
       "  </tbody>\n",
       "</table>\n",
       "</div>"
      ],
      "text/plain": [
       "               open     high      low    close   volume  unadjustedVolume  \\\n",
       "date                                                                        \n",
       "2014-06-12  90.0459  90.0721  89.4612  89.4787  5935011           5935011   \n",
       "2014-06-13  89.4612  89.5834  89.1645  89.4787  4302188           4302188   \n",
       "2014-06-16  89.4700  89.7929  88.8765  89.4089  5645516           5645516   \n",
       "2014-06-17  89.1296  89.1907  88.4751  88.9551  4835591           4835591   \n",
       "2014-06-18  88.9376  89.7405  88.8942  89.7230  5449119           5449119   \n",
       "\n",
       "              change  changePercent     vwap       label  changeOverTime  \\\n",
       "date                                                                       \n",
       "2014-06-12 -0.689437         -0.765  89.5721  Jun 12, 14        0.000000   \n",
       "2014-06-13  0.000000          0.000  89.4077  Jun 13, 14        0.000000   \n",
       "2014-06-16 -0.069817         -0.078  89.4067  Jun 16, 14       -0.000780   \n",
       "2014-06-17 -0.453809         -0.508  88.8206  Jun 17, 14       -0.005852   \n",
       "2014-06-18  0.767983          0.863  89.3121  Jun 18, 14        0.002730   \n",
       "\n",
       "            log_return  \n",
       "date                    \n",
       "2014-06-12    0.000000  \n",
       "2014-06-13    0.000000  \n",
       "2014-06-16   -0.078038  \n",
       "2014-06-17   -0.508848  \n",
       "2014-06-18    0.859540  "
      ]
     },
     "execution_count": 5,
     "metadata": {},
     "output_type": "execute_result"
    }
   ],
   "source": [
    "df.head()"
   ]
  },
  {
   "cell_type": "code",
   "execution_count": 6,
   "metadata": {},
   "outputs": [],
   "source": [
    "df['volatility']=np.log(np.sqrt(pow((df['log_return']-df['log_return'].mean()),2)))"
   ]
  },
  {
   "cell_type": "code",
   "execution_count": 35,
   "metadata": {},
   "outputs": [],
   "source": [
    "#df['volatility']=pow(df['log_return'],2)"
   ]
  },
  {
   "cell_type": "code",
   "execution_count": 7,
   "metadata": {},
   "outputs": [
    {
     "data": {
      "image/png": "[encoded data removed]",
      "text/plain": [
       "<Figure size 720x360 with 1 Axes>"
      ]
     },
     "metadata": {
      "needs_background": "light"
     },
     "output_type": "display_data"
    }
   ],
   "source": [
    "plt.figure(figsize = (10,5))\n",
    "fg = df.volatility.plot()"
   ]
  },
  {
   "cell_type": "code",
   "execution_count": 223,
   "metadata": {},
   "outputs": [],
   "source": [
    "'''\n",
    "df_train = df['volatility'][df.index < \"2017-03-01\"]\n",
    "\n",
    "df_val = df['volatility'][(df.index >= \"2017-03-01\") & (df.index < \"2018-05-01\")]\n",
    "\n",
    "df_test = df['volatility'][df.index >= \"2018-05-01\"]\n",
    "\n",
    "df_train = np.array(df_train).reshape(-1,1)\n",
    "df_val = np.array(df_val).reshape(-1,1)\n",
    "df_test = np.array(df_test).reshape(-1,1)\n",
    "'''"
   ]
  },
  {
   "cell_type": "code",
   "execution_count": 8,
   "metadata": {},
   "outputs": [],
   "source": [
    "# normalize the dataset\n",
    "scaler1 = MinMaxScaler(feature_range=(0, 1))\n",
    "df_x = np.array(df.volatility).reshape(-1,1)\n",
    "df_x = scaler1.fit_transform(df_x)\n",
    "\n",
    "scaler2 = MinMaxScaler(feature_range=(0, 1))\n",
    "df_y = np.array(df.volatility).reshape(-1,1)\n",
    "df_y = scaler2.fit_transform(df_y)"
   ]
  },
  {
   "cell_type": "code",
   "execution_count": 9,
   "metadata": {},
   "outputs": [],
   "source": [
    "def create_dataset(df_x, df_y, look_back=1):\n",
    "    dataX, dataY = [], []\n",
    "    for i in range(len(df)-look_back):\n",
    "        a = df_x[i:(i+look_back)]\n",
    "        dataX.append(a)\n",
    "        dataY.append(df_y[i+look_back])\n",
    "    return np.array(dataX), np.array(dataY)\n",
    "look_back = 10\n",
    "data_X, data_Y = create_dataset(df_x, df_y, look_back)"
   ]
  },
  {
   "cell_type": "code",
   "execution_count": 10,
   "metadata": {},
   "outputs": [
    {
     "data": {
      "text/plain": [
       "(1248, 10, 1)"
      ]
     },
     "execution_count": 10,
     "metadata": {},
     "output_type": "execute_result"
    }
   ],
   "source": [
    "data_X.shape"
   ]
  },
  {
   "cell_type": "code",
   "execution_count": 11,
   "metadata": {},
   "outputs": [
    {
     "data": {
      "text/plain": [
       "(1000, 10, 1)"
      ]
     },
     "execution_count": 11,
     "metadata": {},
     "output_type": "execute_result"
    }
   ],
   "source": [
    "# split into train and test sets\n",
    "train_size = (int(len(df_y ) * 0.8) // 100) * 100\n",
    "test_size = ((len(df_y) - train_size) // 100) * 100\n",
    "df_x = df_x[:train_size+test_size]\n",
    "df_y = df_y[:train_size+test_size]\n",
    "data_X = data_X[:train_size+test_size]\n",
    "data_Y = data_Y[:train_size+test_size]\n",
    "trainX, testX = data_X[0:train_size], data_X[train_size:train_size + test_size]\n",
    "trainY, testY = data_Y[0:train_size], data_Y[train_size:train_size + test_size]\n",
    "trainX.shape"
   ]
  },
  {
   "cell_type": "code",
   "execution_count": 12,
   "metadata": {},
   "outputs": [],
   "source": [
    "# reshape input to be [samples, time steps, features]\n",
    "trainX = trainX.reshape((-1, look_back, 1))\n",
    "testX = testX.reshape( (-1, look_back, 1))\n",
    "trainY = trainY.reshape((-1, 1))\n",
    "testY = testY.reshape( (-1, 1))\n"
   ]
  },
  {
   "cell_type": "code",
   "execution_count": 13,
   "metadata": {},
   "outputs": [
    {
     "data": {
      "text/plain": [
       "(200, 10, 1)"
      ]
     },
     "execution_count": 13,
     "metadata": {},
     "output_type": "execute_result"
    }
   ],
   "source": [
    "testX.shape"
   ]
  },
  {
   "cell_type": "code",
   "execution_count": 14,
   "metadata": {},
   "outputs": [
    {
     "name": "stdout",
     "output_type": "stream",
     "text": [
      "Epoch 1/30\n",
      "1000/1000 [==============================] - 2s 2ms/step - loss: 0.1271\n",
      "Epoch 2/30\n",
      "1000/1000 [==============================] - 1s 716us/step - loss: 0.0172\n",
      "Epoch 3/30\n",
      "1000/1000 [==============================] - 1s 722us/step - loss: 0.0155\n",
      "Epoch 4/30\n",
      "1000/1000 [==============================] - 1s 734us/step - loss: 0.0157\n",
      "Epoch 5/30\n",
      "1000/1000 [==============================] - 1s 726us/step - loss: 0.0155\n",
      "Epoch 6/30\n",
      "1000/1000 [==============================] - 1s 720us/step - loss: 0.0166\n",
      "Epoch 7/30\n",
      "1000/1000 [==============================] - 1s 727us/step - loss: 0.0157\n",
      "Epoch 8/30\n",
      "1000/1000 [==============================] - 1s 721us/step - loss: 0.0160\n",
      "Epoch 9/30\n",
      "1000/1000 [==============================] - 1s 731us/step - loss: 0.0156\n",
      "Epoch 10/30\n",
      "1000/1000 [==============================] - 1s 734us/step - loss: 0.0157\n",
      "Epoch 11/30\n",
      "1000/1000 [==============================] - 1s 760us/step - loss: 0.0156\n",
      "Epoch 12/30\n",
      "1000/1000 [==============================] - 1s 751us/step - loss: 0.0155\n",
      "Epoch 13/30\n",
      "1000/1000 [==============================] - 1s 761us/step - loss: 0.0164\n",
      "Epoch 14/30\n",
      "1000/1000 [==============================] - 1s 858us/step - loss: 0.0153\n",
      "Epoch 15/30\n",
      "1000/1000 [==============================] - 1s 804us/step - loss: 0.0156\n",
      "Epoch 16/30\n",
      "1000/1000 [==============================] - 1s 741us/step - loss: 0.0156\n",
      "Epoch 17/30\n",
      "1000/1000 [==============================] - 1s 708us/step - loss: 0.0153\n",
      "Epoch 18/30\n",
      "1000/1000 [==============================] - 1s 735us/step - loss: 0.0154 0s - lo\n",
      "Epoch 19/30\n",
      "1000/1000 [==============================] - 1s 705us/step - loss: 0.0155\n",
      "Epoch 20/30\n",
      "1000/1000 [==============================] - 1s 745us/step - loss: 0.0156\n",
      "Epoch 21/30\n",
      "1000/1000 [==============================] - 1s 745us/step - loss: 0.0153\n",
      "Epoch 22/30\n",
      "1000/1000 [==============================] - 1s 734us/step - loss: 0.0154\n",
      "Epoch 23/30\n",
      "1000/1000 [==============================] - 1s 744us/step - loss: 0.0151\n",
      "Epoch 24/30\n",
      "1000/1000 [==============================] - 1s 742us/step - loss: 0.0158\n",
      "Epoch 25/30\n",
      "1000/1000 [==============================] - 1s 741us/step - loss: 0.0155\n",
      "Epoch 26/30\n",
      "1000/1000 [==============================] - 1s 826us/step - loss: 0.0153\n",
      "Epoch 27/30\n",
      "1000/1000 [==============================] - 1s 872us/step - loss: 0.0153\n",
      "Epoch 28/30\n",
      "1000/1000 [==============================] - 1s 854us/step - loss: 0.0153\n",
      "Epoch 29/30\n",
      "1000/1000 [==============================] - 1s 785us/step - loss: 0.0155\n",
      "Epoch 30/30\n",
      "1000/1000 [==============================] - 1s 809us/step - loss: 0.0159\n"
     ]
    },
    {
     "data": {
      "text/plain": [
       "<keras.callbacks.callbacks.History at 0x1e875fc0c18>"
      ]
     },
     "execution_count": 14,
     "metadata": {},
     "output_type": "execute_result"
    }
   ],
   "source": [
    "# create and fit the LSTM network\n",
    "model = Sequential()\n",
    "model.add(LSTM(100, activation='tanh', input_shape=(look_back, 1), return_sequences=True))\n",
    "model.add(LSTM(50, activation='relu', input_shape=(look_back, 1), return_sequences=True))\n",
    "model.add(LSTM(25, activation='relu', input_shape=(look_back, 1), return_sequences=False))\n",
    "#model.add(LSTM(20, activation='relu'))\n",
    "model.add(Dense(1))\n",
    "model.compile(loss='mse', optimizer='adam')\n",
    "model.fit(trainX, trainY, epochs=30, verbose=1)"
   ]
  },
  {
   "cell_type": "code",
   "execution_count": 15,
   "metadata": {},
   "outputs": [
    {
     "name": "stdout",
     "output_type": "stream",
     "text": [
      "Train Score: 1.16 RMSE\n",
      "Test Score: 1.31 RMSE\n",
      "R^2 train: -0.039\n",
      "R^2 test: -0.039\n"
     ]
    }
   ],
   "source": [
    "# make predictions\n",
    "trainPredict = model.predict(trainX)\n",
    "testPredict = model.predict(testX)\n",
    "# invert predictions\n",
    "trainPredict = scaler2.inverse_transform(trainPredict)\n",
    "\n",
    "trainY = scaler2.inverse_transform(trainY)\n",
    "testPredict = scaler2.inverse_transform(testPredict)\n",
    "testY = scaler2.inverse_transform(testY)\n",
    "# calculate root mean squared error\n",
    "trainScore = math.sqrt(mean_squared_error(trainY, trainPredict[:,0]))\n",
    "print('Train Score: %.2f RMSE' % (trainScore))\n",
    "testScore = math.sqrt(mean_squared_error(testY, testPredict[:,0]))\n",
    "print('Test Score: %.2f RMSE' % (testScore))\n",
    "print('R^2 train: %.3f' % (r2_score(trainY, trainPredict[:,0])))\n",
    "print('R^2 test: %.3f' % (r2_score(trainY, trainPredict[:,0])))"
   ]
  },
  {
   "cell_type": "code",
   "execution_count": 16,
   "metadata": {},
   "outputs": [
    {
     "data": {
      "image/png": "[encoded data removed]",
      "text/plain": [
       "<Figure size 432x288 with 1 Axes>"
      ]
     },
     "metadata": {
      "needs_background": "light"
     },
     "output_type": "display_data"
    }
   ],
   "source": [
    "# shift train predictions for plotting\n",
    "trainPredictPlot = np.empty_like(df_x)\n",
    "trainPredictPlot[:, :] = np.nan\n",
    "trainPredictPlot[0:len(trainPredict), :] = trainPredict\n",
    "# shift test predictions for plotting\n",
    "testPredictPlot = np.empty_like(df_x)\n",
    "testPredictPlot[:, :] = np.nan\n",
    "testPredictPlot[len(trainPredict):len(df_x), :] = testPredict\n",
    "# plot baseline and predictions\n",
    "#plt.figure(figsize=(100,5))\n",
    "plt.plot(scaler2.inverse_transform(df_y))\n",
    "plt.plot(trainPredictPlot)\n",
    "plt.plot(testPredictPlot)\n",
    "#plt.plot(df.log_return)\n",
    "plt.show()"
   ]
  },
  {
   "cell_type": "code",
   "execution_count": null,
   "metadata": {},
   "outputs": [],
   "source": []
  },
  {
   "cell_type": "code",
   "execution_count": null,
   "metadata": {},
   "outputs": [],
   "source": []
  }
 ],
 "metadata": {
  "kernelspec": {
   "display_name": "Python 3",
   "language": "python",
   "name": "python3"
  },
  "language_info": {
   "codemirror_mode": {
    "name": "ipython",
    "version": 3
   },
   "file_extension": ".py",
   "mimetype": "text/x-python",
   "name": "python",
   "nbconvert_exporter": "python",
   "pygments_lexer": "ipython3",
   "version": "3.7.3"
  }
 },
 "nbformat": 4,
 "nbformat_minor": 2
}
