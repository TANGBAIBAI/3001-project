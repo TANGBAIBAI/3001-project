{
 "cells": [
  {
   "cell_type": "code",
   "execution_count": 17,
   "metadata": {},
   "outputs": [],
   "source": [
    "import numpy as np\n",
    "import matplotlib.pyplot as plt\n",
    "import pandas as pd\n",
    "import math\n",
    "import glob\n",
    "from keras.models import Sequential\n",
    "from keras.layers import Dense\n",
    "from keras.layers import LSTM\n",
    "from sklearn.preprocessing import MinMaxScaler\n",
    "from sklearn.metrics import mean_squared_error\n",
    "from sklearn.metrics import r2_score\n",
    "# fix random seed for reproducibility\n",
    "np.random.seed(7)"
   ]
  },
  {
   "cell_type": "code",
   "execution_count": 18,
   "metadata": {},
   "outputs": [],
   "source": [
    "files=glob.glob('../stock-data-dow-jones/*.csv')\n",
    "#files=glob.glob('stock-data-dow-jones/*.txt')\n",
    "df = pd.read_csv(files[0],index_col = 0)"
   ]
  },
  {
   "cell_type": "code",
   "execution_count": 19,
   "metadata": {},
   "outputs": [
    {
     "name": "stderr",
     "output_type": "stream",
     "text": [
      "C:\\Users\\zhajr\\Anaconda3\\lib\\site-packages\\ipykernel_launcher.py:3: SettingWithCopyWarning: \n",
      "A value is trying to be set on a copy of a slice from a DataFrame\n",
      "\n",
      "See the caveats in the documentation: http://pandas.pydata.org/pandas-docs/stable/indexing.html#indexing-view-versus-copy\n",
      "  This is separate from the ipykernel package so we can avoid doing imports until\n"
     ]
    }
   ],
   "source": [
    "df['log_return'] = [0.0]*df.shape[0]\n",
    "for i in range(1,df.shape[0]):\n",
    "    df['log_return'][i]=np.log(df['close'][i]/df['close'][i-1])*100"
   ]
  },
  {
   "cell_type": "code",
   "execution_count": 20,
   "metadata": {},
   "outputs": [
    {
     "data": {
      "text/html": [
       "<div>\n",
       "<style scoped>\n",
       "    .dataframe tbody tr th:only-of-type {\n",
       "        vertical-align: middle;\n",
       "    }\n",
       "\n",
       "    .dataframe tbody tr th {\n",
       "        vertical-align: top;\n",
       "    }\n",
       "\n",
       "    .dataframe thead th {\n",
       "        text-align: right;\n",
       "    }\n",
       "</style>\n",
       "<table border=\"1\" class=\"dataframe\">\n",
       "  <thead>\n",
       "    <tr style=\"text-align: right;\">\n",
       "      <th></th>\n",
       "      <th>open</th>\n",
       "      <th>high</th>\n",
       "      <th>low</th>\n",
       "      <th>close</th>\n",
       "      <th>volume</th>\n",
       "      <th>unadjustedVolume</th>\n",
       "      <th>change</th>\n",
       "      <th>changePercent</th>\n",
       "      <th>vwap</th>\n",
       "      <th>label</th>\n",
       "      <th>changeOverTime</th>\n",
       "      <th>log_return</th>\n",
       "    </tr>\n",
       "    <tr>\n",
       "      <th>date</th>\n",
       "      <th></th>\n",
       "      <th></th>\n",
       "      <th></th>\n",
       "      <th></th>\n",
       "      <th></th>\n",
       "      <th></th>\n",
       "      <th></th>\n",
       "      <th></th>\n",
       "      <th></th>\n",
       "      <th></th>\n",
       "      <th></th>\n",
       "      <th></th>\n",
       "    </tr>\n",
       "  </thead>\n",
       "  <tbody>\n",
       "    <tr>\n",
       "      <th>2014-06-12</th>\n",
       "      <td>86.1899</td>\n",
       "      <td>86.2632</td>\n",
       "      <td>84.2285</td>\n",
       "      <td>84.5860</td>\n",
       "      <td>54748791</td>\n",
       "      <td>54748791</td>\n",
       "      <td>-1.438900</td>\n",
       "      <td>-1.673</td>\n",
       "      <td>84.9637</td>\n",
       "      <td>Jun 12, 14</td>\n",
       "      <td>0.000000</td>\n",
       "      <td>0.000000</td>\n",
       "    </tr>\n",
       "    <tr>\n",
       "      <th>2014-06-13</th>\n",
       "      <td>84.5035</td>\n",
       "      <td>84.7235</td>\n",
       "      <td>83.2937</td>\n",
       "      <td>83.6603</td>\n",
       "      <td>54525280</td>\n",
       "      <td>54525280</td>\n",
       "      <td>-0.925693</td>\n",
       "      <td>-1.094</td>\n",
       "      <td>83.9228</td>\n",
       "      <td>Jun 13, 14</td>\n",
       "      <td>-0.010944</td>\n",
       "      <td>-1.100422</td>\n",
       "    </tr>\n",
       "    <tr>\n",
       "      <th>2014-06-16</th>\n",
       "      <td>83.8711</td>\n",
       "      <td>85.0076</td>\n",
       "      <td>83.8161</td>\n",
       "      <td>84.5035</td>\n",
       "      <td>35561270</td>\n",
       "      <td>35561270</td>\n",
       "      <td>0.843204</td>\n",
       "      <td>1.008</td>\n",
       "      <td>84.4144</td>\n",
       "      <td>Jun 16, 14</td>\n",
       "      <td>-0.000975</td>\n",
       "      <td>1.002840</td>\n",
       "    </tr>\n",
       "    <tr>\n",
       "      <th>2014-06-17</th>\n",
       "      <td>84.6043</td>\n",
       "      <td>84.9618</td>\n",
       "      <td>84.1369</td>\n",
       "      <td>84.3935</td>\n",
       "      <td>29726347</td>\n",
       "      <td>29726347</td>\n",
       "      <td>-0.109982</td>\n",
       "      <td>-0.130</td>\n",
       "      <td>84.5093</td>\n",
       "      <td>Jun 17, 14</td>\n",
       "      <td>-0.002276</td>\n",
       "      <td>-0.130257</td>\n",
       "    </tr>\n",
       "    <tr>\n",
       "      <th>2014-06-18</th>\n",
       "      <td>84.5676</td>\n",
       "      <td>84.5860</td>\n",
       "      <td>83.7244</td>\n",
       "      <td>84.4852</td>\n",
       "      <td>33514108</td>\n",
       "      <td>33514108</td>\n",
       "      <td>0.091652</td>\n",
       "      <td>0.109</td>\n",
       "      <td>84.1826</td>\n",
       "      <td>Jun 18, 14</td>\n",
       "      <td>-0.001192</td>\n",
       "      <td>0.108599</td>\n",
       "    </tr>\n",
       "  </tbody>\n",
       "</table>\n",
       "</div>"
      ],
      "text/plain": [
       "               open     high      low    close    volume  unadjustedVolume  \\\n",
       "date                                                                         \n",
       "2014-06-12  86.1899  86.2632  84.2285  84.5860  54748791          54748791   \n",
       "2014-06-13  84.5035  84.7235  83.2937  83.6603  54525280          54525280   \n",
       "2014-06-16  83.8711  85.0076  83.8161  84.5035  35561270          35561270   \n",
       "2014-06-17  84.6043  84.9618  84.1369  84.3935  29726347          29726347   \n",
       "2014-06-18  84.5676  84.5860  83.7244  84.4852  33514108          33514108   \n",
       "\n",
       "              change  changePercent     vwap       label  changeOverTime  \\\n",
       "date                                                                       \n",
       "2014-06-12 -1.438900         -1.673  84.9637  Jun 12, 14        0.000000   \n",
       "2014-06-13 -0.925693         -1.094  83.9228  Jun 13, 14       -0.010944   \n",
       "2014-06-16  0.843204          1.008  84.4144  Jun 16, 14       -0.000975   \n",
       "2014-06-17 -0.109982         -0.130  84.5093  Jun 17, 14       -0.002276   \n",
       "2014-06-18  0.091652          0.109  84.1826  Jun 18, 14       -0.001192   \n",
       "\n",
       "            log_return  \n",
       "date                    \n",
       "2014-06-12    0.000000  \n",
       "2014-06-13   -1.100422  \n",
       "2014-06-16    1.002840  \n",
       "2014-06-17   -0.130257  \n",
       "2014-06-18    0.108599  "
      ]
     },
     "execution_count": 20,
     "metadata": {},
     "output_type": "execute_result"
    }
   ],
   "source": [
    "df.head()"
   ]
  },
  {
   "cell_type": "code",
   "execution_count": 21,
   "metadata": {},
   "outputs": [],
   "source": [
    "df['volatility']=np.log(np.sqrt(pow((df['log_return']-df['log_return'].mean()),2)))"
   ]
  },
  {
   "cell_type": "code",
   "execution_count": 15,
   "metadata": {},
   "outputs": [],
   "source": [
    "#df['volatility']=pow(df['log_return'],2)"
   ]
  },
  {
   "cell_type": "code",
   "execution_count": 22,
   "metadata": {},
   "outputs": [
    {
     "data": {
      "image/png": "[encoded data removed]",
      "text/plain": [
       "<Figure size 720x360 with 1 Axes>"
      ]
     },
     "metadata": {
      "needs_background": "light"
     },
     "output_type": "display_data"
    }
   ],
   "source": [
    "plt.figure(figsize = (10,5))\n",
    "fg = df.volatility.plot()"
   ]
  },
  {
   "cell_type": "code",
   "execution_count": 17,
   "metadata": {},
   "outputs": [
    {
     "data": {
      "text/plain": [
       "'\\ndf_train = df[\\'volatility\\'][df.index < \"2017-03-01\"]\\n\\ndf_val = df[\\'volatility\\'][(df.index >= \"2017-03-01\") & (df.index < \"2018-05-01\")]\\n\\ndf_test = df[\\'volatility\\'][df.index >= \"2018-05-01\"]\\n\\ndf_train = np.array(df_train).reshape(-1,1)\\ndf_val = np.array(df_val).reshape(-1,1)\\ndf_test = np.array(df_test).reshape(-1,1)\\n'"
      ]
     },
     "execution_count": 17,
     "metadata": {},
     "output_type": "execute_result"
    }
   ],
   "source": [
    "'''\n",
    "df_train = df['volatility'][df.index < \"2017-03-01\"]\n",
    "\n",
    "df_val = df['volatility'][(df.index >= \"2017-03-01\") & (df.index < \"2018-05-01\")]\n",
    "\n",
    "df_test = df['volatility'][df.index >= \"2018-05-01\"]\n",
    "\n",
    "df_train = np.array(df_train).reshape(-1,1)\n",
    "df_val = np.array(df_val).reshape(-1,1)\n",
    "df_test = np.array(df_test).reshape(-1,1)\n",
    "'''"
   ]
  },
  {
   "cell_type": "code",
   "execution_count": 23,
   "metadata": {},
   "outputs": [],
   "source": [
    "# normalize the dataset\n",
    "scaler1 = MinMaxScaler(feature_range=(0, 1))\n",
    "df_x = np.array(df.volatility).reshape(-1,1)\n",
    "df_x = scaler1.fit_transform(df_x)\n",
    "\n",
    "scaler2 = MinMaxScaler(feature_range=(0, 1))\n",
    "df_y = np.array(df.volatility).reshape(-1,1)\n",
    "df_y = scaler2.fit_transform(df_y)"
   ]
  },
  {
   "cell_type": "code",
   "execution_count": 24,
   "metadata": {},
   "outputs": [],
   "source": [
    "def create_dataset(df_x, df_y, look_back=1):\n",
    "    dataX, dataY = [], []\n",
    "    for i in range(len(df)-look_back):\n",
    "        a = df_x[i:(i+look_back)]\n",
    "        dataX.append(a)\n",
    "        dataY.append(df_y[i+look_back])\n",
    "    return np.array(dataX), np.array(dataY)\n",
    "look_back = 10\n",
    "data_X, data_Y = create_dataset(df_x, df_y, look_back)"
   ]
  },
  {
   "cell_type": "code",
   "execution_count": 25,
   "metadata": {},
   "outputs": [
    {
     "data": {
      "text/plain": [
       "(1248, 10, 1)"
      ]
     },
     "execution_count": 25,
     "metadata": {},
     "output_type": "execute_result"
    }
   ],
   "source": [
    "data_X.shape"
   ]
  },
  {
   "cell_type": "code",
   "execution_count": 26,
   "metadata": {},
   "outputs": [
    {
     "data": {
      "text/plain": [
       "(1000, 10, 1)"
      ]
     },
     "execution_count": 26,
     "metadata": {},
     "output_type": "execute_result"
    }
   ],
   "source": [
    "# split into train and test sets\n",
    "train_size = (int(len(df_y ) * 0.8) // 100) * 100\n",
    "test_size = ((len(df_y) - train_size) // 100) * 100\n",
    "df_x = df_x[:train_size+test_size]\n",
    "df_y = df_y[:train_size+test_size]\n",
    "data_X = data_X[:train_size+test_size]\n",
    "data_Y = data_Y[:train_size+test_size]\n",
    "trainX, testX = data_X[0:train_size], data_X[train_size:train_size + test_size]\n",
    "trainY, testY = data_Y[0:train_size], data_Y[train_size:train_size + test_size]\n",
    "trainX.shape"
   ]
  },
  {
   "cell_type": "code",
   "execution_count": 27,
   "metadata": {},
   "outputs": [],
   "source": [
    "# reshape input to be [samples, time steps, features]\n",
    "trainX = trainX.reshape((-1, look_back, 1))\n",
    "testX = testX.reshape( (-1, look_back, 1))\n",
    "trainY = trainY.reshape((-1, 1))\n",
    "testY = testY.reshape( (-1, 1))\n"
   ]
  },
  {
   "cell_type": "code",
   "execution_count": 28,
   "metadata": {},
   "outputs": [
    {
     "data": {
      "text/plain": [
       "(200, 10, 1)"
      ]
     },
     "execution_count": 28,
     "metadata": {},
     "output_type": "execute_result"
    }
   ],
   "source": [
    "testX.shape"
   ]
  },
  {
   "cell_type": "code",
   "execution_count": 29,
   "metadata": {},
   "outputs": [
    {
     "name": "stdout",
     "output_type": "stream",
     "text": [
      "Epoch 1/30\n",
      "1000/1000 [==============================] - 1s 1ms/step - loss: 0.1570\n",
      "Epoch 2/30\n",
      "1000/1000 [==============================] - 0s 434us/step - loss: 0.0144\n",
      "Epoch 3/30\n",
      "1000/1000 [==============================] - 0s 491us/step - loss: 0.0132\n",
      "Epoch 4/30\n",
      "1000/1000 [==============================] - 0s 457us/step - loss: 0.0131\n",
      "Epoch 5/30\n",
      "1000/1000 [==============================] - 0s 439us/step - loss: 0.0130\n",
      "Epoch 6/30\n",
      "1000/1000 [==============================] - 1s 597us/step - loss: 0.0132\n",
      "Epoch 7/30\n",
      "1000/1000 [==============================] - 1s 610us/step - loss: 0.0133\n",
      "Epoch 8/30\n",
      "1000/1000 [==============================] - 1s 626us/step - loss: 0.0131\n",
      "Epoch 9/30\n",
      "1000/1000 [==============================] - 1s 627us/step - loss: 0.0129\n",
      "Epoch 10/30\n",
      "1000/1000 [==============================] - 1s 623us/step - loss: 0.0132\n",
      "Epoch 11/30\n",
      "1000/1000 [==============================] - 1s 632us/step - loss: 0.0128\n",
      "Epoch 12/30\n",
      "1000/1000 [==============================] - 1s 634us/step - loss: 0.0130\n",
      "Epoch 13/30\n",
      "1000/1000 [==============================] - 1s 628us/step - loss: 0.0129\n",
      "Epoch 14/30\n",
      "1000/1000 [==============================] - 1s 635us/step - loss: 0.0133\n",
      "Epoch 15/30\n",
      "1000/1000 [==============================] - 1s 626us/step - loss: 0.0127\n",
      "Epoch 16/30\n",
      "1000/1000 [==============================] - 1s 628us/step - loss: 0.0131\n",
      "Epoch 17/30\n",
      "1000/1000 [==============================] - 1s 667us/step - loss: 0.0139\n",
      "Epoch 18/30\n",
      "1000/1000 [==============================] - 1s 659us/step - loss: 0.0130\n",
      "Epoch 19/30\n",
      "1000/1000 [==============================] - 1s 650us/step - loss: 0.0128\n",
      "Epoch 20/30\n",
      "1000/1000 [==============================] - 1s 638us/step - loss: 0.0129\n",
      "Epoch 21/30\n",
      "1000/1000 [==============================] - 1s 656us/step - loss: 0.0126\n",
      "Epoch 22/30\n",
      "1000/1000 [==============================] - 1s 634us/step - loss: 0.0130\n",
      "Epoch 23/30\n",
      "1000/1000 [==============================] - 1s 620us/step - loss: 0.0127\n",
      "Epoch 24/30\n",
      "1000/1000 [==============================] - 1s 627us/step - loss: 0.0128\n",
      "Epoch 25/30\n",
      "1000/1000 [==============================] - 1s 659us/step - loss: 0.0131\n",
      "Epoch 26/30\n",
      "1000/1000 [==============================] - 1s 654us/step - loss: 0.0129\n",
      "Epoch 27/30\n",
      "1000/1000 [==============================] - 1s 651us/step - loss: 0.0134\n",
      "Epoch 28/30\n",
      "1000/1000 [==============================] - 1s 662us/step - loss: 0.0130\n",
      "Epoch 29/30\n",
      "1000/1000 [==============================] - 1s 658us/step - loss: 0.0126\n",
      "Epoch 30/30\n",
      "1000/1000 [==============================] - 1s 664us/step - loss: 0.0131\n"
     ]
    },
    {
     "data": {
      "text/plain": [
       "<keras.callbacks.callbacks.History at 0x27e69572c88>"
      ]
     },
     "execution_count": 29,
     "metadata": {},
     "output_type": "execute_result"
    }
   ],
   "source": [
    "# create and fit the LSTM network\n",
    "model = Sequential()\n",
    "model.add(LSTM(100, activation='tanh', input_shape=(look_back, 1), return_sequences=True))\n",
    "model.add(LSTM(50, activation='relu', input_shape=(look_back, 1), return_sequences=True))\n",
    "model.add(LSTM(25, activation='relu', input_shape=(look_back, 1), return_sequences=False))\n",
    "#model.add(LSTM(20, activation='relu'))\n",
    "model.add(Dense(1))\n",
    "model.compile(loss='mse', optimizer='adam')\n",
    "model.fit(trainX, trainY, epochs=30, verbose=1)"
   ]
  },
  {
   "cell_type": "code",
   "execution_count": 30,
   "metadata": {},
   "outputs": [
    {
     "name": "stdout",
     "output_type": "stream",
     "text": [
      "Train Score: 1.22 RMSE\n",
      "Test Score: 1.29 RMSE\n",
      "R^2 train: -0.047\n",
      "R^2 test: -0.047\n"
     ]
    }
   ],
   "source": [
    "# make predictions\n",
    "trainPredict = model.predict(trainX)\n",
    "testPredict = model.predict(testX)\n",
    "# invert predictions\n",
    "trainPredict = scaler2.inverse_transform(trainPredict)\n",
    "\n",
    "trainY = scaler2.inverse_transform(trainY)\n",
    "testPredict = scaler2.inverse_transform(testPredict)\n",
    "testY = scaler2.inverse_transform(testY)\n",
    "# calculate root mean squared error\n",
    "trainScore = math.sqrt(mean_squared_error(trainY, trainPredict[:,0]))\n",
    "print('Train Score: %.2f RMSE' % (trainScore))\n",
    "testScore = math.sqrt(mean_squared_error(testY, testPredict[:,0]))\n",
    "print('Test Score: %.2f RMSE' % (testScore))\n",
    "print('R^2 train: %.3f' % (r2_score(trainY, trainPredict[:,0])))\n",
    "print('R^2 test: %.3f' % (r2_score(trainY, trainPredict[:,0])))"
   ]
  },
  {
   "cell_type": "code",
   "execution_count": 31,
   "metadata": {},
   "outputs": [
    {
     "data": {
      "image/png": "[encoded data removed]",
      "text/plain": [
       "<Figure size 432x288 with 1 Axes>"
      ]
     },
     "metadata": {
      "needs_background": "light"
     },
     "output_type": "display_data"
    }
   ],
   "source": [
    "# shift train predictions for plotting\n",
    "trainPredictPlot = np.empty_like(df_x)\n",
    "trainPredictPlot[:, :] = np.nan\n",
    "trainPredictPlot[0:len(trainPredict), :] = trainPredict\n",
    "# shift test predictions for plotting\n",
    "testPredictPlot = np.empty_like(df_x)\n",
    "testPredictPlot[:, :] = np.nan\n",
    "testPredictPlot[len(trainPredict):len(df_x), :] = testPredict\n",
    "# plot baseline and predictions\n",
    "#plt.figure(figsize=(100,5))\n",
    "plt.plot(scaler2.inverse_transform(df_y))\n",
    "plt.plot(trainPredictPlot)\n",
    "plt.plot(testPredictPlot)\n",
    "#plt.plot(df.log_return)\n",
    "plt.show()"
   ]
  },
  {
   "cell_type": "code",
   "execution_count": null,
   "metadata": {},
   "outputs": [],
   "source": []
  },
  {
   "cell_type": "code",
   "execution_count": null,
   "metadata": {},
   "outputs": [],
   "source": []
  }
 ],
 "metadata": {
  "kernelspec": {
   "display_name": "Python 3",
   "language": "python",
   "name": "python3"
  },
  "language_info": {
   "codemirror_mode": {
    "name": "ipython",
    "version": 3
   },
   "file_extension": ".py",
   "mimetype": "text/x-python",
   "name": "python",
   "nbconvert_exporter": "python",
   "pygments_lexer": "ipython3",
   "version": "3.7.3"
  }
 },
 "nbformat": 4,
 "nbformat_minor": 2
}
