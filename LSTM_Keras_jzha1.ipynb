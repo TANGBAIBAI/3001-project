{
 "cells": [
  {
   "cell_type": "code",
   "execution_count": 1,
   "metadata": {},
   "outputs": [
    {
     "name": "stderr",
     "output_type": "stream",
     "text": [
      "Using TensorFlow backend.\n",
      "C:\\Users\\zhajr\\Anaconda3\\lib\\site-packages\\tensorflow\\python\\framework\\dtypes.py:516: FutureWarning: Passing (type, 1) or '1type' as a synonym of type is deprecated; in a future version of numpy, it will be understood as (type, (1,)) / '(1,)type'.\n",
      "  _np_qint8 = np.dtype([(\"qint8\", np.int8, 1)])\n",
      "C:\\Users\\zhajr\\Anaconda3\\lib\\site-packages\\tensorflow\\python\\framework\\dtypes.py:517: FutureWarning: Passing (type, 1) or '1type' as a synonym of type is deprecated; in a future version of numpy, it will be understood as (type, (1,)) / '(1,)type'.\n",
      "  _np_quint8 = np.dtype([(\"quint8\", np.uint8, 1)])\n",
      "C:\\Users\\zhajr\\Anaconda3\\lib\\site-packages\\tensorflow\\python\\framework\\dtypes.py:518: FutureWarning: Passing (type, 1) or '1type' as a synonym of type is deprecated; in a future version of numpy, it will be understood as (type, (1,)) / '(1,)type'.\n",
      "  _np_qint16 = np.dtype([(\"qint16\", np.int16, 1)])\n",
      "C:\\Users\\zhajr\\Anaconda3\\lib\\site-packages\\tensorflow\\python\\framework\\dtypes.py:519: FutureWarning: Passing (type, 1) or '1type' as a synonym of type is deprecated; in a future version of numpy, it will be understood as (type, (1,)) / '(1,)type'.\n",
      "  _np_quint16 = np.dtype([(\"quint16\", np.uint16, 1)])\n",
      "C:\\Users\\zhajr\\Anaconda3\\lib\\site-packages\\tensorflow\\python\\framework\\dtypes.py:520: FutureWarning: Passing (type, 1) or '1type' as a synonym of type is deprecated; in a future version of numpy, it will be understood as (type, (1,)) / '(1,)type'.\n",
      "  _np_qint32 = np.dtype([(\"qint32\", np.int32, 1)])\n",
      "C:\\Users\\zhajr\\Anaconda3\\lib\\site-packages\\tensorflow\\python\\framework\\dtypes.py:525: FutureWarning: Passing (type, 1) or '1type' as a synonym of type is deprecated; in a future version of numpy, it will be understood as (type, (1,)) / '(1,)type'.\n",
      "  np_resource = np.dtype([(\"resource\", np.ubyte, 1)])\n",
      "C:\\Users\\zhajr\\Anaconda3\\lib\\site-packages\\tensorboard\\compat\\tensorflow_stub\\dtypes.py:541: FutureWarning: Passing (type, 1) or '1type' as a synonym of type is deprecated; in a future version of numpy, it will be understood as (type, (1,)) / '(1,)type'.\n",
      "  _np_qint8 = np.dtype([(\"qint8\", np.int8, 1)])\n",
      "C:\\Users\\zhajr\\Anaconda3\\lib\\site-packages\\tensorboard\\compat\\tensorflow_stub\\dtypes.py:542: FutureWarning: Passing (type, 1) or '1type' as a synonym of type is deprecated; in a future version of numpy, it will be understood as (type, (1,)) / '(1,)type'.\n",
      "  _np_quint8 = np.dtype([(\"quint8\", np.uint8, 1)])\n",
      "C:\\Users\\zhajr\\Anaconda3\\lib\\site-packages\\tensorboard\\compat\\tensorflow_stub\\dtypes.py:543: FutureWarning: Passing (type, 1) or '1type' as a synonym of type is deprecated; in a future version of numpy, it will be understood as (type, (1,)) / '(1,)type'.\n",
      "  _np_qint16 = np.dtype([(\"qint16\", np.int16, 1)])\n",
      "C:\\Users\\zhajr\\Anaconda3\\lib\\site-packages\\tensorboard\\compat\\tensorflow_stub\\dtypes.py:544: FutureWarning: Passing (type, 1) or '1type' as a synonym of type is deprecated; in a future version of numpy, it will be understood as (type, (1,)) / '(1,)type'.\n",
      "  _np_quint16 = np.dtype([(\"quint16\", np.uint16, 1)])\n",
      "C:\\Users\\zhajr\\Anaconda3\\lib\\site-packages\\tensorboard\\compat\\tensorflow_stub\\dtypes.py:545: FutureWarning: Passing (type, 1) or '1type' as a synonym of type is deprecated; in a future version of numpy, it will be understood as (type, (1,)) / '(1,)type'.\n",
      "  _np_qint32 = np.dtype([(\"qint32\", np.int32, 1)])\n",
      "C:\\Users\\zhajr\\Anaconda3\\lib\\site-packages\\tensorboard\\compat\\tensorflow_stub\\dtypes.py:550: FutureWarning: Passing (type, 1) or '1type' as a synonym of type is deprecated; in a future version of numpy, it will be understood as (type, (1,)) / '(1,)type'.\n",
      "  np_resource = np.dtype([(\"resource\", np.ubyte, 1)])\n"
     ]
    }
   ],
   "source": [
    "import numpy as np\n",
    "import matplotlib.pyplot as plt\n",
    "import pandas as pd\n",
    "import math\n",
    "import glob\n",
    "from keras.models import Sequential\n",
    "from keras.layers import Dense\n",
    "from keras.layers import LSTM\n",
    "from sklearn.preprocessing import MinMaxScaler\n",
    "from sklearn.metrics import mean_squared_error\n",
    "from sklearn.metrics import r2_score\n",
    "# fix random seed for reproducibility\n",
    "np.random.seed(7)"
   ]
  },
  {
   "cell_type": "code",
   "execution_count": 2,
   "metadata": {},
   "outputs": [],
   "source": [
    "files=glob.glob('../stock-data-dow-jones/*.csv')\n",
    "#files=glob.glob('stock-data-dow-jones/*.txt')\n",
    "df = pd.read_csv(files[14],index_col = 0)"
   ]
  },
  {
   "cell_type": "code",
   "execution_count": 3,
   "metadata": {},
   "outputs": [
    {
     "name": "stderr",
     "output_type": "stream",
     "text": [
      "C:\\Users\\zhajr\\Anaconda3\\lib\\site-packages\\ipykernel_launcher.py:3: SettingWithCopyWarning: \n",
      "A value is trying to be set on a copy of a slice from a DataFrame\n",
      "\n",
      "See the caveats in the documentation: http://pandas.pydata.org/pandas-docs/stable/indexing.html#indexing-view-versus-copy\n",
      "  This is separate from the ipykernel package so we can avoid doing imports until\n"
     ]
    }
   ],
   "source": [
    "df['log_return'] = [0.0]*df.shape[0]\n",
    "for i in range(1,df.shape[0]):\n",
    "    df['log_return'][i]=np.log(df['close'][i]/df['close'][i-1])*100"
   ]
  },
  {
   "cell_type": "code",
   "execution_count": 5,
   "metadata": {},
   "outputs": [
    {
     "data": {
      "text/html": [
       "<div>\n",
       "<style scoped>\n",
       "    .dataframe tbody tr th:only-of-type {\n",
       "        vertical-align: middle;\n",
       "    }\n",
       "\n",
       "    .dataframe tbody tr th {\n",
       "        vertical-align: top;\n",
       "    }\n",
       "\n",
       "    .dataframe thead th {\n",
       "        text-align: right;\n",
       "    }\n",
       "</style>\n",
       "<table border=\"1\" class=\"dataframe\">\n",
       "  <thead>\n",
       "    <tr style=\"text-align: right;\">\n",
       "      <th></th>\n",
       "      <th>open</th>\n",
       "      <th>high</th>\n",
       "      <th>low</th>\n",
       "      <th>close</th>\n",
       "      <th>volume</th>\n",
       "      <th>unadjustedVolume</th>\n",
       "      <th>change</th>\n",
       "      <th>changePercent</th>\n",
       "      <th>vwap</th>\n",
       "      <th>label</th>\n",
       "      <th>changeOverTime</th>\n",
       "      <th>log_return</th>\n",
       "    </tr>\n",
       "    <tr>\n",
       "      <th>date</th>\n",
       "      <th></th>\n",
       "      <th></th>\n",
       "      <th></th>\n",
       "      <th></th>\n",
       "      <th></th>\n",
       "      <th></th>\n",
       "      <th></th>\n",
       "      <th></th>\n",
       "      <th></th>\n",
       "      <th></th>\n",
       "      <th></th>\n",
       "      <th></th>\n",
       "    </tr>\n",
       "  </thead>\n",
       "  <tbody>\n",
       "    <tr>\n",
       "      <th>2014-06-12</th>\n",
       "      <td>34.6187</td>\n",
       "      <td>34.8500</td>\n",
       "      <td>34.5845</td>\n",
       "      <td>34.6273</td>\n",
       "      <td>11583569</td>\n",
       "      <td>11583569</td>\n",
       "      <td>-0.115636</td>\n",
       "      <td>-0.333</td>\n",
       "      <td>34.7113</td>\n",
       "      <td>Jun 12, 14</td>\n",
       "      <td>0.000000</td>\n",
       "      <td>0.000000</td>\n",
       "    </tr>\n",
       "    <tr>\n",
       "      <th>2014-06-13</th>\n",
       "      <td>34.6016</td>\n",
       "      <td>34.7258</td>\n",
       "      <td>34.4817</td>\n",
       "      <td>34.5845</td>\n",
       "      <td>9203771</td>\n",
       "      <td>9203771</td>\n",
       "      <td>-0.042836</td>\n",
       "      <td>-0.124</td>\n",
       "      <td>34.5761</td>\n",
       "      <td>Jun 13, 14</td>\n",
       "      <td>-0.001236</td>\n",
       "      <td>-0.123678</td>\n",
       "    </tr>\n",
       "    <tr>\n",
       "      <th>2014-06-16</th>\n",
       "      <td>34.4303</td>\n",
       "      <td>34.9271</td>\n",
       "      <td>34.3960</td>\n",
       "      <td>34.8329</td>\n",
       "      <td>12878160</td>\n",
       "      <td>12878160</td>\n",
       "      <td>0.248441</td>\n",
       "      <td>0.718</td>\n",
       "      <td>34.8076</td>\n",
       "      <td>Jun 16, 14</td>\n",
       "      <td>0.005938</td>\n",
       "      <td>0.715674</td>\n",
       "    </tr>\n",
       "    <tr>\n",
       "      <th>2014-06-17</th>\n",
       "      <td>35.2784</td>\n",
       "      <td>35.2955</td>\n",
       "      <td>34.7901</td>\n",
       "      <td>35.0556</td>\n",
       "      <td>26927159</td>\n",
       "      <td>26927159</td>\n",
       "      <td>0.222738</td>\n",
       "      <td>0.639</td>\n",
       "      <td>35.0595</td>\n",
       "      <td>Jun 17, 14</td>\n",
       "      <td>0.012369</td>\n",
       "      <td>0.637303</td>\n",
       "    </tr>\n",
       "    <tr>\n",
       "      <th>2014-06-18</th>\n",
       "      <td>34.9443</td>\n",
       "      <td>35.6125</td>\n",
       "      <td>34.9100</td>\n",
       "      <td>35.6039</td>\n",
       "      <td>18518178</td>\n",
       "      <td>18518178</td>\n",
       "      <td>0.548282</td>\n",
       "      <td>1.564</td>\n",
       "      <td>35.3470</td>\n",
       "      <td>Jun 18, 14</td>\n",
       "      <td>0.028203</td>\n",
       "      <td>1.551981</td>\n",
       "    </tr>\n",
       "  </tbody>\n",
       "</table>\n",
       "</div>"
      ],
      "text/plain": [
       "               open     high      low    close    volume  unadjustedVolume  \\\n",
       "date                                                                         \n",
       "2014-06-12  34.6187  34.8500  34.5845  34.6273  11583569          11583569   \n",
       "2014-06-13  34.6016  34.7258  34.4817  34.5845   9203771           9203771   \n",
       "2014-06-16  34.4303  34.9271  34.3960  34.8329  12878160          12878160   \n",
       "2014-06-17  35.2784  35.2955  34.7901  35.0556  26927159          26927159   \n",
       "2014-06-18  34.9443  35.6125  34.9100  35.6039  18518178          18518178   \n",
       "\n",
       "              change  changePercent     vwap       label  changeOverTime  \\\n",
       "date                                                                       \n",
       "2014-06-12 -0.115636         -0.333  34.7113  Jun 12, 14        0.000000   \n",
       "2014-06-13 -0.042836         -0.124  34.5761  Jun 13, 14       -0.001236   \n",
       "2014-06-16  0.248441          0.718  34.8076  Jun 16, 14        0.005938   \n",
       "2014-06-17  0.222738          0.639  35.0595  Jun 17, 14        0.012369   \n",
       "2014-06-18  0.548282          1.564  35.3470  Jun 18, 14        0.028203   \n",
       "\n",
       "            log_return  \n",
       "date                    \n",
       "2014-06-12    0.000000  \n",
       "2014-06-13   -0.123678  \n",
       "2014-06-16    0.715674  \n",
       "2014-06-17    0.637303  \n",
       "2014-06-18    1.551981  "
      ]
     },
     "execution_count": 5,
     "metadata": {},
     "output_type": "execute_result"
    }
   ],
   "source": [
    "df.head()"
   ]
  },
  {
   "cell_type": "code",
   "execution_count": 6,
   "metadata": {},
   "outputs": [],
   "source": [
    "df['volatility']=np.log(np.sqrt(pow((df['log_return']-df['log_return'].mean()),2)))"
   ]
  },
  {
   "cell_type": "code",
   "execution_count": 15,
   "metadata": {},
   "outputs": [],
   "source": [
    "#df['volatility']=pow(df['log_return'],2)"
   ]
  },
  {
   "cell_type": "code",
   "execution_count": 7,
   "metadata": {},
   "outputs": [
    {
     "data": {
      "image/png": "[encoded data removed]",
      "text/plain": [
       "<Figure size 720x360 with 1 Axes>"
      ]
     },
     "metadata": {
      "needs_background": "light"
     },
     "output_type": "display_data"
    }
   ],
   "source": [
    "plt.figure(figsize = (10,5))\n",
    "fg = df.volatility.plot()"
   ]
  },
  {
   "cell_type": "code",
   "execution_count": 17,
   "metadata": {},
   "outputs": [
    {
     "data": {
      "text/plain": [
       "'\\ndf_train = df[\\'volatility\\'][df.index < \"2017-03-01\"]\\n\\ndf_val = df[\\'volatility\\'][(df.index >= \"2017-03-01\") & (df.index < \"2018-05-01\")]\\n\\ndf_test = df[\\'volatility\\'][df.index >= \"2018-05-01\"]\\n\\ndf_train = np.array(df_train).reshape(-1,1)\\ndf_val = np.array(df_val).reshape(-1,1)\\ndf_test = np.array(df_test).reshape(-1,1)\\n'"
      ]
     },
     "execution_count": 17,
     "metadata": {},
     "output_type": "execute_result"
    }
   ],
   "source": [
    "'''\n",
    "df_train = df['volatility'][df.index < \"2017-03-01\"]\n",
    "\n",
    "df_val = df['volatility'][(df.index >= \"2017-03-01\") & (df.index < \"2018-05-01\")]\n",
    "\n",
    "df_test = df['volatility'][df.index >= \"2018-05-01\"]\n",
    "\n",
    "df_train = np.array(df_train).reshape(-1,1)\n",
    "df_val = np.array(df_val).reshape(-1,1)\n",
    "df_test = np.array(df_test).reshape(-1,1)\n",
    "'''"
   ]
  },
  {
   "cell_type": "code",
   "execution_count": 8,
   "metadata": {},
   "outputs": [],
   "source": [
    "# normalize the dataset\n",
    "scaler1 = MinMaxScaler(feature_range=(0, 1))\n",
    "df_x = np.array(df.volatility).reshape(-1,1)\n",
    "df_x = scaler1.fit_transform(df_x)\n",
    "\n",
    "scaler2 = MinMaxScaler(feature_range=(0, 1))\n",
    "df_y = np.array(df.volatility).reshape(-1,1)\n",
    "df_y = scaler2.fit_transform(df_y)"
   ]
  },
  {
   "cell_type": "code",
   "execution_count": 9,
   "metadata": {},
   "outputs": [],
   "source": [
    "def create_dataset(df_x, df_y, look_back=1):\n",
    "    dataX, dataY = [], []\n",
    "    for i in range(len(df)-look_back):\n",
    "        a = df_x[i:(i+look_back)]\n",
    "        dataX.append(a)\n",
    "        dataY.append(df_y[i+look_back])\n",
    "    return np.array(dataX), np.array(dataY)\n",
    "look_back = 10\n",
    "data_X, data_Y = create_dataset(df_x, df_y, look_back)"
   ]
  },
  {
   "cell_type": "code",
   "execution_count": 10,
   "metadata": {},
   "outputs": [
    {
     "data": {
      "text/plain": [
       "(1248, 10, 1)"
      ]
     },
     "execution_count": 10,
     "metadata": {},
     "output_type": "execute_result"
    }
   ],
   "source": [
    "data_X.shape"
   ]
  },
  {
   "cell_type": "code",
   "execution_count": 11,
   "metadata": {},
   "outputs": [
    {
     "data": {
      "text/plain": [
       "(1000, 10, 1)"
      ]
     },
     "execution_count": 11,
     "metadata": {},
     "output_type": "execute_result"
    }
   ],
   "source": [
    "# split into train and test sets\n",
    "train_size = (int(len(df_y ) * 0.8) // 100) * 100\n",
    "test_size = ((len(df_y) - train_size) // 100) * 100\n",
    "df_x = df_x[:train_size+test_size]\n",
    "df_y = df_y[:train_size+test_size]\n",
    "data_X = data_X[:train_size+test_size]\n",
    "data_Y = data_Y[:train_size+test_size]\n",
    "trainX, testX = data_X[0:train_size], data_X[train_size:train_size + test_size]\n",
    "trainY, testY = data_Y[0:train_size], data_Y[train_size:train_size + test_size]\n",
    "trainX.shape"
   ]
  },
  {
   "cell_type": "code",
   "execution_count": 12,
   "metadata": {},
   "outputs": [],
   "source": [
    "# reshape input to be [samples, time steps, features]\n",
    "trainX = trainX.reshape((-1, look_back, 1))\n",
    "testX = testX.reshape( (-1, look_back, 1))\n",
    "trainY = trainY.reshape((-1, 1))\n",
    "testY = testY.reshape( (-1, 1))\n"
   ]
  },
  {
   "cell_type": "code",
   "execution_count": 13,
   "metadata": {},
   "outputs": [
    {
     "data": {
      "text/plain": [
       "(200, 10, 1)"
      ]
     },
     "execution_count": 13,
     "metadata": {},
     "output_type": "execute_result"
    }
   ],
   "source": [
    "testX.shape"
   ]
  },
  {
   "cell_type": "code",
   "execution_count": 14,
   "metadata": {},
   "outputs": [
    {
     "name": "stdout",
     "output_type": "stream",
     "text": [
      "WARNING:tensorflow:From C:\\Users\\zhajr\\Anaconda3\\lib\\site-packages\\keras\\backend\\tensorflow_backend.py:422: The name tf.global_variables is deprecated. Please use tf.compat.v1.global_variables instead.\n",
      "\n",
      "Epoch 1/30\n",
      "1000/1000 [==============================] - 2s 2ms/step - loss: 0.1079\n",
      "Epoch 2/30\n",
      "1000/1000 [==============================] - 0s 418us/step - loss: 0.0275\n",
      "Epoch 3/30\n",
      "1000/1000 [==============================] - 0s 426us/step - loss: 0.0263\n",
      "Epoch 4/30\n",
      "1000/1000 [==============================] - 0s 423us/step - loss: 0.0265\n",
      "Epoch 5/30\n",
      "1000/1000 [==============================] - 0s 486us/step - loss: 0.0261\n",
      "Epoch 6/30\n",
      "1000/1000 [==============================] - 0s 426us/step - loss: 0.0269\n",
      "Epoch 7/30\n",
      "1000/1000 [==============================] - 0s 425us/step - loss: 0.0261\n",
      "Epoch 8/30\n",
      "1000/1000 [==============================] - 0s 433us/step - loss: 0.0267\n",
      "Epoch 9/30\n",
      "1000/1000 [==============================] - 0s 426us/step - loss: 0.0262\n",
      "Epoch 10/30\n",
      "1000/1000 [==============================] - 0s 479us/step - loss: 0.0263\n",
      "Epoch 11/30\n",
      "1000/1000 [==============================] - 0s 440us/step - loss: 0.0267\n",
      "Epoch 12/30\n",
      "1000/1000 [==============================] - 1s 637us/step - loss: 0.0261\n",
      "Epoch 13/30\n",
      "1000/1000 [==============================] - 1s 627us/step - loss: 0.0258\n",
      "Epoch 14/30\n",
      "1000/1000 [==============================] - 1s 619us/step - loss: 0.0260\n",
      "Epoch 15/30\n",
      "1000/1000 [==============================] - 1s 630us/step - loss: 0.0266\n",
      "Epoch 16/30\n",
      "1000/1000 [==============================] - 1s 639us/step - loss: 0.0256\n",
      "Epoch 17/30\n",
      "1000/1000 [==============================] - 1s 637us/step - loss: 0.0262\n",
      "Epoch 18/30\n",
      "1000/1000 [==============================] - 1s 652us/step - loss: 0.0266\n",
      "Epoch 19/30\n",
      "1000/1000 [==============================] - 1s 626us/step - loss: 0.0257\n",
      "Epoch 20/30\n",
      "1000/1000 [==============================] - 1s 606us/step - loss: 0.0258\n",
      "Epoch 21/30\n",
      "1000/1000 [==============================] - 1s 604us/step - loss: 0.0264\n",
      "Epoch 22/30\n",
      "1000/1000 [==============================] - 1s 615us/step - loss: 0.0258\n",
      "Epoch 23/30\n",
      "1000/1000 [==============================] - 1s 611us/step - loss: 0.0260\n",
      "Epoch 24/30\n",
      "1000/1000 [==============================] - 1s 627us/step - loss: 0.0261\n",
      "Epoch 25/30\n",
      "1000/1000 [==============================] - 1s 611us/step - loss: 0.0264\n",
      "Epoch 26/30\n",
      "1000/1000 [==============================] - 1s 614us/step - loss: 0.0263\n",
      "Epoch 27/30\n",
      "1000/1000 [==============================] - 1s 647us/step - loss: 0.0261\n",
      "Epoch 28/30\n",
      "1000/1000 [==============================] - 1s 618us/step - loss: 0.0259\n",
      "Epoch 29/30\n",
      "1000/1000 [==============================] - 1s 655us/step - loss: 0.0260\n",
      "Epoch 30/30\n",
      "1000/1000 [==============================] - 1s 648us/step - loss: 0.0256\n"
     ]
    },
    {
     "data": {
      "text/plain": [
       "<keras.callbacks.callbacks.History at 0x27e63fc2e80>"
      ]
     },
     "execution_count": 14,
     "metadata": {},
     "output_type": "execute_result"
    }
   ],
   "source": [
    "# create and fit the LSTM network\n",
    "model = Sequential()\n",
    "model.add(LSTM(100, activation='tanh', input_shape=(look_back, 1), return_sequences=True))\n",
    "model.add(LSTM(50, activation='relu', input_shape=(look_back, 1), return_sequences=True))\n",
    "model.add(LSTM(25, activation='relu', input_shape=(look_back, 1), return_sequences=False))\n",
    "#model.add(LSTM(20, activation='relu'))\n",
    "model.add(Dense(1))\n",
    "model.compile(loss='mse', optimizer='adam')\n",
    "model.fit(trainX, trainY, epochs=30, verbose=1)"
   ]
  },
  {
   "cell_type": "code",
   "execution_count": 15,
   "metadata": {},
   "outputs": [
    {
     "name": "stdout",
     "output_type": "stream",
     "text": [
      "Train Score: 1.16 RMSE\n",
      "Test Score: 1.10 RMSE\n",
      "R^2 train: -0.003\n",
      "R^2 test: -0.003\n"
     ]
    }
   ],
   "source": [
    "# make predictions\n",
    "trainPredict = model.predict(trainX)\n",
    "testPredict = model.predict(testX)\n",
    "# invert predictions\n",
    "trainPredict = scaler2.inverse_transform(trainPredict)\n",
    "\n",
    "trainY = scaler2.inverse_transform(trainY)\n",
    "testPredict = scaler2.inverse_transform(testPredict)\n",
    "testY = scaler2.inverse_transform(testY)\n",
    "# calculate root mean squared error\n",
    "trainScore = math.sqrt(mean_squared_error(trainY, trainPredict[:,0]))\n",
    "print('Train Score: %.2f RMSE' % (trainScore))\n",
    "testScore = math.sqrt(mean_squared_error(testY, testPredict[:,0]))\n",
    "print('Test Score: %.2f RMSE' % (testScore))\n",
    "print('R^2 train: %.3f' % (r2_score(trainY, trainPredict[:,0])))\n",
    "print('R^2 test: %.3f' % (r2_score(trainY, trainPredict[:,0])))"
   ]
  },
  {
   "cell_type": "code",
   "execution_count": 16,
   "metadata": {},
   "outputs": [
    {
     "data": {
      "image/png": "[encoded data removed]",
      "text/plain": [
       "<Figure size 432x288 with 1 Axes>"
      ]
     },
     "metadata": {
      "needs_background": "light"
     },
     "output_type": "display_data"
    }
   ],
   "source": [
    "# shift train predictions for plotting\n",
    "trainPredictPlot = np.empty_like(df_x)\n",
    "trainPredictPlot[:, :] = np.nan\n",
    "trainPredictPlot[0:len(trainPredict), :] = trainPredict\n",
    "# shift test predictions for plotting\n",
    "testPredictPlot = np.empty_like(df_x)\n",
    "testPredictPlot[:, :] = np.nan\n",
    "testPredictPlot[len(trainPredict):len(df_x), :] = testPredict\n",
    "# plot baseline and predictions\n",
    "#plt.figure(figsize=(100,5))\n",
    "plt.plot(scaler2.inverse_transform(df_y))\n",
    "plt.plot(trainPredictPlot)\n",
    "plt.plot(testPredictPlot)\n",
    "#plt.plot(df.log_return)\n",
    "plt.show()"
   ]
  },
  {
   "cell_type": "code",
   "execution_count": null,
   "metadata": {},
   "outputs": [],
   "source": []
  },
  {
   "cell_type": "code",
   "execution_count": null,
   "metadata": {},
   "outputs": [],
   "source": []
  }
 ],
 "metadata": {
  "kernelspec": {
   "display_name": "Python 3",
   "language": "python",
   "name": "python3"
  },
  "language_info": {
   "codemirror_mode": {
    "name": "ipython",
    "version": 3
   },
   "file_extension": ".py",
   "mimetype": "text/x-python",
   "name": "python",
   "nbconvert_exporter": "python",
   "pygments_lexer": "ipython3",
   "version": "3.7.3"
  }
 },
 "nbformat": 4,
 "nbformat_minor": 2
}
